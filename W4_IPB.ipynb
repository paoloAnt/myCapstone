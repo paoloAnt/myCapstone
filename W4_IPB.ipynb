{
 "cells": [
  {
   "cell_type": "markdown",
   "id": "44a6867c",
   "metadata": {},
   "source": [
    "# __Capstone project: The Battle of Neighborhoods - Week 1__"
   ]
  },
  {
   "cell_type": "markdown",
   "id": "147b6c77",
   "metadata": {},
   "source": [
    "## __Table of contents__"
   ]
  },
  {
   "cell_type": "markdown",
   "id": "2f4024ea",
   "metadata": {},
   "source": [
    "* Introduction/Business Problem\n",
    "* Data\n",
    "* Methodology\n",
    "* Results and Discussion\n",
    "* Conclusion"
   ]
  },
  {
   "cell_type": "markdown",
   "id": "df93abf5",
   "metadata": {},
   "source": [
    "### Introduction/Business Problem"
   ]
  },
  {
   "cell_type": "markdown",
   "id": "6ef4dd10",
   "metadata": {},
   "source": [
    "In this project I would like to make a description of the activities of the most important coastal cities of southern Italy and how they affect their economy.  \n",
    "For this purpose I will consider the most important provinces and the most famous tourist resorts of Campania, Puglia, Basilicata, Calabria and the two big islands Sicily and Sardinia."
   ]
  },
  {
   "cell_type": "code",
   "execution_count": null,
   "id": "c6a8b2fb",
   "metadata": {},
   "outputs": [],
   "source": []
  }
 ],
 "metadata": {
  "kernelspec": {
   "display_name": "Python",
   "language": "python",
   "name": "conda-env-python-py"
  },
  "language_info": {
   "codemirror_mode": {
    "name": "ipython",
    "version": 3
   },
   "file_extension": ".py",
   "mimetype": "text/x-python",
   "name": "python",
   "nbconvert_exporter": "python",
   "pygments_lexer": "ipython3",
   "version": "3.6.13"
  }
 },
 "nbformat": 4,
 "nbformat_minor": 5
}
