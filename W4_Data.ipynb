{
 "cells": [
  {
   "cell_type": "markdown",
   "id": "c7a6c0b9",
   "metadata": {},
   "source": [
    "# __Capstone project: The Battle of Neighborhoods - Week 1__"
   ]
  },
  {
   "cell_type": "markdown",
   "id": "71892241",
   "metadata": {},
   "source": [
    "## __Table of contents__"
   ]
  },
  {
   "cell_type": "markdown",
   "id": "7be19a94",
   "metadata": {},
   "source": [
    "* Introduction/Business Problem\n",
    "* Data description\n",
    "* Methodology\n",
    "* Results and Discussion\n",
    "* Conclusion"
   ]
  },
  {
   "cell_type": "markdown",
   "id": "e61ee905",
   "metadata": {},
   "source": [
    "### Data description"
   ]
  },
  {
   "cell_type": "markdown",
   "id": "8853895c",
   "metadata": {},
   "source": [
    "Regarding the data on the activities of the cities I will use the API of Foursquare within the geocoder Nominatim.While regarding the economic aspect the data will be taken from the website of 'Sole 24 ore', the most important Italian economic newspaper, year 2016. This is the reference link: https://lab24.ilsole24ore.com/mappaRedditi/redditiTabelle.html"
   ]
  }
 ],
 "metadata": {
  "kernelspec": {
   "display_name": "Python",
   "language": "python",
   "name": "conda-env-python-py"
  },
  "language_info": {
   "codemirror_mode": {
    "name": "ipython",
    "version": 3
   },
   "file_extension": ".py",
   "mimetype": "text/x-python",
   "name": "python",
   "nbconvert_exporter": "python",
   "pygments_lexer": "ipython3",
   "version": "3.6.13"
  }
 },
 "nbformat": 4,
 "nbformat_minor": 5
}
