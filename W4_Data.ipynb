{
 "cells": [
  {
   "cell_type": "markdown",
   "id": "c23bc5c8",
   "metadata": {},
   "source": [
    "# __Capstone project: The Battle of Neighborhoods - Week 1__"
   ]
  },
  {
   "cell_type": "markdown",
   "id": "293fb5a4",
   "metadata": {},
   "source": [
    "## __Table of contents__"
   ]
  },
  {
   "cell_type": "markdown",
   "id": "692575b8",
   "metadata": {},
   "source": [
    "* Introduction/Business Problem\n",
    "* Data description\n",
    "* Methodology\n",
    "* Results and Discussion\n",
    "* Conclusion"
   ]
  },
  {
   "cell_type": "markdown",
   "id": "1c47f141",
   "metadata": {},
   "source": [
    "### Data description"
   ]
  },
  {
   "cell_type": "code",
   "execution_count": null,
   "id": "285895ad",
   "metadata": {},
   "outputs": [],
   "source": [
    "In this project I would like to make a description of the activities of the most important coastal cities of southern Italy and how they affect their economy.  \n",
    "For this purpose I will consider the most important provinces and the most famous tourist resorts of Campania, Puglia, Basilicata, Calabria and the two big islands Sicily and Sardinia."
   ]
  },
  {
   "cell_type": "code",
   "execution_count": null,
   "id": "cc7f80e5",
   "metadata": {},
   "outputs": [],
   "source": []
  }
 ],
 "metadata": {
  "kernelspec": {
   "display_name": "Python",
   "language": "python",
   "name": "conda-env-python-py"
  },
  "language_info": {
   "codemirror_mode": {
    "name": "ipython",
    "version": 3
   },
   "file_extension": ".py",
   "mimetype": "text/x-python",
   "name": "python",
   "nbconvert_exporter": "python",
   "pygments_lexer": "ipython3",
   "version": "3.6.13"
  }
 },
 "nbformat": 4,
 "nbformat_minor": 5
}
